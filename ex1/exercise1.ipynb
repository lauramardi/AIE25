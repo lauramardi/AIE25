{
 "cells": [
  {
   "cell_type": "code",
   "execution_count": 14,
   "metadata": {},
   "outputs": [],
   "source": [
    "from transformers import pipeline\n",
    "import pandas as pd"
   ]
  },
  {
   "cell_type": "markdown",
   "metadata": {},
   "source": [
    "Create pipeline and function to get the details from a job posting"
   ]
  },
  {
   "cell_type": "code",
   "execution_count": 24,
   "metadata": {},
   "outputs": [
    {
     "name": "stderr",
     "output_type": "stream",
     "text": [
      "No model was supplied, defaulted to distilbert/distilbert-base-cased-distilled-squad and revision 564e9b5 (https://huggingface.co/distilbert/distilbert-base-cased-distilled-squad).\n",
      "Using a pipeline without specifying a model name and revision in production is not recommended.\n",
      "Device set to use cpu\n"
     ]
    }
   ],
   "source": [
    "qa_pipeline = pipeline(\"question-answering\")\n",
    "\n",
    "def get_details(job_posting):\n",
    "    context = job_posting\n",
    "    question1 = 'What is the salary range?'\n",
    "    question2 = 'What is the job title?'\n",
    "    question3 = 'What is the location?'\n",
    "    \n",
    "    salary = qa_pipeline(question=question1, context=context)['answer']\n",
    "    title = qa_pipeline(question=question2, context=context)['answer']\n",
    "    location = qa_pipeline(question=question3, context=context)['answer']\n",
    "    \n",
    "    return {'Salary': salary, 'Job title':title, 'Location': location}\n",
    "    "
   ]
  },
  {
   "cell_type": "markdown",
   "metadata": {},
   "source": [
    "Read the csv with the postings and do a bit of visualization"
   ]
  },
  {
   "cell_type": "code",
   "execution_count": 17,
   "metadata": {},
   "outputs": [],
   "source": [
    "df = pd.read_csv('job_postings.csv')"
   ]
  },
  {
   "cell_type": "code",
   "execution_count": 18,
   "metadata": {},
   "outputs": [
    {
     "data": {
      "text/html": [
       "<div>\n",
       "<style scoped>\n",
       "    .dataframe tbody tr th:only-of-type {\n",
       "        vertical-align: middle;\n",
       "    }\n",
       "\n",
       "    .dataframe tbody tr th {\n",
       "        vertical-align: top;\n",
       "    }\n",
       "\n",
       "    .dataframe thead th {\n",
       "        text-align: right;\n",
       "    }\n",
       "</style>\n",
       "<table border=\"1\" class=\"dataframe\">\n",
       "  <thead>\n",
       "    <tr style=\"text-align: right;\">\n",
       "      <th></th>\n",
       "      <th>posting_date</th>\n",
       "      <th>company_name</th>\n",
       "      <th>job_description</th>\n",
       "    </tr>\n",
       "  </thead>\n",
       "  <tbody>\n",
       "    <tr>\n",
       "      <th>count</th>\n",
       "      <td>10</td>\n",
       "      <td>10</td>\n",
       "      <td>10</td>\n",
       "    </tr>\n",
       "    <tr>\n",
       "      <th>unique</th>\n",
       "      <td>10</td>\n",
       "      <td>10</td>\n",
       "      <td>10</td>\n",
       "    </tr>\n",
       "    <tr>\n",
       "      <th>top</th>\n",
       "      <td>2024-09-01</td>\n",
       "      <td>Nexarion Inc.</td>\n",
       "      <td>We're on the hunt for a talented software engi...</td>\n",
       "    </tr>\n",
       "    <tr>\n",
       "      <th>freq</th>\n",
       "      <td>1</td>\n",
       "      <td>1</td>\n",
       "      <td>1</td>\n",
       "    </tr>\n",
       "  </tbody>\n",
       "</table>\n",
       "</div>"
      ],
      "text/plain": [
       "       posting_date   company_name  \\\n",
       "count            10             10   \n",
       "unique           10             10   \n",
       "top      2024-09-01  Nexarion Inc.   \n",
       "freq              1              1   \n",
       "\n",
       "                                          job_description  \n",
       "count                                                  10  \n",
       "unique                                                 10  \n",
       "top     We're on the hunt for a talented software engi...  \n",
       "freq                                                    1  "
      ]
     },
     "execution_count": 18,
     "metadata": {},
     "output_type": "execute_result"
    }
   ],
   "source": [
    "df.describe()"
   ]
  },
  {
   "cell_type": "code",
   "execution_count": 19,
   "metadata": {},
   "outputs": [
    {
     "data": {
      "text/html": [
       "<div>\n",
       "<style scoped>\n",
       "    .dataframe tbody tr th:only-of-type {\n",
       "        vertical-align: middle;\n",
       "    }\n",
       "\n",
       "    .dataframe tbody tr th {\n",
       "        vertical-align: top;\n",
       "    }\n",
       "\n",
       "    .dataframe thead th {\n",
       "        text-align: right;\n",
       "    }\n",
       "</style>\n",
       "<table border=\"1\" class=\"dataframe\">\n",
       "  <thead>\n",
       "    <tr style=\"text-align: right;\">\n",
       "      <th></th>\n",
       "      <th>posting_date</th>\n",
       "      <th>company_name</th>\n",
       "      <th>job_description</th>\n",
       "    </tr>\n",
       "  </thead>\n",
       "  <tbody>\n",
       "    <tr>\n",
       "      <th>0</th>\n",
       "      <td>2024-09-01</td>\n",
       "      <td>Nexarion Inc.</td>\n",
       "      <td>We're on the hunt for a talented software engi...</td>\n",
       "    </tr>\n",
       "    <tr>\n",
       "      <th>1</th>\n",
       "      <td>2024-08-25</td>\n",
       "      <td>Eonix Solutions</td>\n",
       "      <td>About Us: We're a team of innovators and probl...</td>\n",
       "    </tr>\n",
       "    <tr>\n",
       "      <th>2</th>\n",
       "      <td>2024-09-10</td>\n",
       "      <td>Kaidon Technologies</td>\n",
       "      <td>Job Title: Product Manager\\r\\nLocation: Redmon...</td>\n",
       "    </tr>\n",
       "    <tr>\n",
       "      <th>3</th>\n",
       "      <td>2024-08-30</td>\n",
       "      <td>Lumina Creative</td>\n",
       "      <td>Our company is a dynamic and innovative startu...</td>\n",
       "    </tr>\n",
       "    <tr>\n",
       "      <th>4</th>\n",
       "      <td>2024-09-05</td>\n",
       "      <td>Voltara Inc.</td>\n",
       "      <td>Job Summary: We're seeking an electrical engin...</td>\n",
       "    </tr>\n",
       "    <tr>\n",
       "      <th>5</th>\n",
       "      <td>2024-09-15</td>\n",
       "      <td>Aurora Media</td>\n",
       "      <td>Aurora Media is a leading provider of digital ...</td>\n",
       "    </tr>\n",
       "    <tr>\n",
       "      <th>6</th>\n",
       "      <td>2024-08-20</td>\n",
       "      <td>Pulsar Marketing</td>\n",
       "      <td>We're looking for a marketing manager to join ...</td>\n",
       "    </tr>\n",
       "    <tr>\n",
       "      <th>7</th>\n",
       "      <td>2024-09-20</td>\n",
       "      <td>Helix Research</td>\n",
       "      <td>Helix Research is a cutting-edge research inst...</td>\n",
       "    </tr>\n",
       "    <tr>\n",
       "      <th>8</th>\n",
       "      <td>2024-08-15</td>\n",
       "      <td>Flux Solutions</td>\n",
       "      <td>Job Summary: We're seeking a sales representat...</td>\n",
       "    </tr>\n",
       "    <tr>\n",
       "      <th>9</th>\n",
       "      <td>2024-08-10</td>\n",
       "      <td>Cygnus Technologies</td>\n",
       "      <td>Cygnus Technologies is a leading provider of i...</td>\n",
       "    </tr>\n",
       "  </tbody>\n",
       "</table>\n",
       "</div>"
      ],
      "text/plain": [
       "  posting_date         company_name  \\\n",
       "0   2024-09-01        Nexarion Inc.   \n",
       "1   2024-08-25      Eonix Solutions   \n",
       "2   2024-09-10  Kaidon Technologies   \n",
       "3   2024-08-30      Lumina Creative   \n",
       "4   2024-09-05         Voltara Inc.   \n",
       "5   2024-09-15         Aurora Media   \n",
       "6   2024-08-20     Pulsar Marketing   \n",
       "7   2024-09-20       Helix Research   \n",
       "8   2024-08-15       Flux Solutions   \n",
       "9   2024-08-10  Cygnus Technologies   \n",
       "\n",
       "                                     job_description  \n",
       "0  We're on the hunt for a talented software engi...  \n",
       "1  About Us: We're a team of innovators and probl...  \n",
       "2  Job Title: Product Manager\\r\\nLocation: Redmon...  \n",
       "3  Our company is a dynamic and innovative startu...  \n",
       "4  Job Summary: We're seeking an electrical engin...  \n",
       "5  Aurora Media is a leading provider of digital ...  \n",
       "6  We're looking for a marketing manager to join ...  \n",
       "7  Helix Research is a cutting-edge research inst...  \n",
       "8  Job Summary: We're seeking a sales representat...  \n",
       "9  Cygnus Technologies is a leading provider of i...  "
      ]
     },
     "execution_count": 19,
     "metadata": {},
     "output_type": "execute_result"
    }
   ],
   "source": [
    "df"
   ]
  },
  {
   "cell_type": "markdown",
   "metadata": {},
   "source": [
    "For each description, run the previous function and print the result"
   ]
  },
  {
   "cell_type": "code",
   "execution_count": 25,
   "metadata": {},
   "outputs": [
    {
     "name": "stdout",
     "output_type": "stream",
     "text": [
      "{'Salary': '$120,000 - $180,000 per year', 'Job title': 'software engineer', 'Location': 'Cupertino, CA'}\n",
      "{'Salary': '$100,000 - $160,000 per year', 'Job title': 'data scientist', 'Location': 'New York, NY'}\n",
      "{'Salary': 'budget', 'Job title': 'Product Manager', 'Location': 'Redmond'}\n",
      "{'Salary': 'strong portfolio', 'Job title': 'career', 'Location': 'Seattle, WA'}\n",
      "{'Salary': '$100,000 - $160,000 per year', 'Job title': 'Job Summary', 'Location': 'Palo Alto, CA. As an electrical engineer at Voltara'}\n",
      "{'Salary': 'Comprehensive benefits package', 'Job title': 'content writer', 'Location': 'Los Angeles, CA'}\n",
      "{'Salary': '$90,000 - $140,000 per year', 'Job title': 'marketing manager', 'Location': 'Pulsar'}\n",
      "{'Salary': 'retirement savings', 'Job title': 'research scientist', 'Location': 'San Jose'}\n",
      "{'Salary': 'competitive', 'Job title': 'Job Summary', 'Location': 'Dallas, TX'}\n",
      "{'Salary': 'Salary is negotiable', 'Job title': 'hardware engineer', 'Location': 'Boston, MA'}\n"
     ]
    }
   ],
   "source": [
    "for description in df['job_description']:\n",
    "    details = get_details(description)\n",
    "    print(details)"
   ]
  }
 ],
 "metadata": {
  "kernelspec": {
   "display_name": "Python 3",
   "language": "python",
   "name": "python3"
  },
  "language_info": {
   "codemirror_mode": {
    "name": "ipython",
    "version": 3
   },
   "file_extension": ".py",
   "mimetype": "text/x-python",
   "name": "python",
   "nbconvert_exporter": "python",
   "pygments_lexer": "ipython3",
   "version": "3.11.0"
  }
 },
 "nbformat": 4,
 "nbformat_minor": 2
}
